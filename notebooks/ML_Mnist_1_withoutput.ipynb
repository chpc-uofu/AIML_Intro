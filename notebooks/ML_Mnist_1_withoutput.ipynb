{
 "cells": [
  {
   "cell_type": "markdown",
   "id": "8d149c8f-3551-4d27-8ed3-0ff6399933bb",
   "metadata": {
    "jp-MarkdownHeadingCollapsed": true
   },
   "source": [
    "# AI/ML Introduction/Outline\n",
    "\n",
    "* Suggested audience: Basic knowledge of Python, curious about ML\n",
    "\n",
    "* Basic machine learning principles with theory\n",
    "\n",
    "* Mnist is our example dataset - walkthrough/demonstration-simpler Imagenet\n",
    "\n",
    "* NOT LLMs, this will be a future presentation"
   ]
  },
  {
   "cell_type": "markdown",
   "id": "8f09dc32-8e2a-4247-8fbc-755807496c99",
   "metadata": {},
   "source": [
    "# If you want to recreate this...\n",
    "\n",
    "* https://github.com/chpc-uofu/...  \n",
    "\n",
    "* Jupyter Python Version = CHPC Deep Learning 2024.1\n"
   ]
  },
  {
   "cell_type": "markdown",
   "id": "69134740-253d-42c8-beac-a514a6645681",
   "metadata": {},
   "source": [
    "# Machine Learning - Why?\n",
    "<img src=\"../images/cactuscaptioned.jpg\" width=\"200\" height=\"200\" align=right />\n",
    "<img src=\"../images/neekacaptioned_resized.jpg\" width=\"200\" height=\"150\" align=right />\n",
    "\n",
    "* Image recognition\n",
    "\n",
    "* Predict the future, model disease spread        \n",
    "\n",
    "* Patterns behind the chaos even if you can not see them\n",
    "\n",
    "* Create and train a model with a dataset"
   ]
  },
  {
   "cell_type": "markdown",
   "id": "52dc6388-eb11-40f5-8947-40bf0008662e",
   "metadata": {},
   "source": [
    "# Types of Learning\n",
    "\n",
    "* Supervised (labeled data) - classification, regression\n",
    "\n",
    "* Unsupervised (unlabeled data) first stage of LLMs - future presentations\n",
    "\n",
    "* There is an underlying assumption behind machine learning\n",
    "\n",
    "* Past performance does not guarantee future results"
   ]
  },
  {
   "cell_type": "markdown",
   "id": "020c4e17-39c8-4a12-bab7-f1fc155c2b2b",
   "metadata": {},
   "source": [
    "# Supervised Learning\n",
    "\n",
    "* Supervised – you have a labeled target (thing you are trying to predict)\n",
    "\n",
    "* Remember to separate this from your data!\n",
    "\n",
    "* Another separation – train and test partitions - checks for overfitting and remember past performance warning"
   ]
  },
  {
   "cell_type": "code",
   "execution_count": 2,
   "id": "b392fd25-34d5-4e6c-96be-d1e9e0682e50",
   "metadata": {},
   "outputs": [
    {
     "data": {
      "text/html": [
       "<div>\n",
       "<style scoped>\n",
       "    .dataframe tbody tr th:only-of-type {\n",
       "        vertical-align: middle;\n",
       "    }\n",
       "\n",
       "    .dataframe tbody tr th {\n",
       "        vertical-align: top;\n",
       "    }\n",
       "\n",
       "    .dataframe thead th {\n",
       "        text-align: right;\n",
       "    }\n",
       "</style>\n",
       "<table border=\"1\" class=\"dataframe\">\n",
       "  <thead>\n",
       "    <tr style=\"text-align: right;\">\n",
       "      <th></th>\n",
       "      <th>Elevation</th>\n",
       "      <th>Humidity</th>\n",
       "      <th>Month</th>\n",
       "      <th>Tornado</th>\n",
       "      <th>Avg Temperature</th>\n",
       "    </tr>\n",
       "  </thead>\n",
       "  <tbody>\n",
       "    <tr>\n",
       "      <th>0</th>\n",
       "      <td>500</td>\n",
       "      <td>77</td>\n",
       "      <td>July</td>\n",
       "      <td>1</td>\n",
       "      <td>89</td>\n",
       "    </tr>\n",
       "    <tr>\n",
       "      <th>1</th>\n",
       "      <td>4300</td>\n",
       "      <td>18</td>\n",
       "      <td>July</td>\n",
       "      <td>0</td>\n",
       "      <td>95</td>\n",
       "    </tr>\n",
       "    <tr>\n",
       "      <th>2</th>\n",
       "      <td>7100</td>\n",
       "      <td>11</td>\n",
       "      <td>July</td>\n",
       "      <td>0</td>\n",
       "      <td>87</td>\n",
       "    </tr>\n",
       "    <tr>\n",
       "      <th>3</th>\n",
       "      <td>4300</td>\n",
       "      <td>88</td>\n",
       "      <td>June</td>\n",
       "      <td>1</td>\n",
       "      <td>89</td>\n",
       "    </tr>\n",
       "    <tr>\n",
       "      <th>4</th>\n",
       "      <td>500</td>\n",
       "      <td>34</td>\n",
       "      <td>December</td>\n",
       "      <td>0</td>\n",
       "      <td>50</td>\n",
       "    </tr>\n",
       "    <tr>\n",
       "      <th>5</th>\n",
       "      <td>300</td>\n",
       "      <td>55</td>\n",
       "      <td>November</td>\n",
       "      <td>0</td>\n",
       "      <td>58</td>\n",
       "    </tr>\n",
       "    <tr>\n",
       "      <th>6</th>\n",
       "      <td>300</td>\n",
       "      <td>77</td>\n",
       "      <td>June</td>\n",
       "      <td>1</td>\n",
       "      <td>91</td>\n",
       "    </tr>\n",
       "    <tr>\n",
       "      <th>7</th>\n",
       "      <td>400</td>\n",
       "      <td>66</td>\n",
       "      <td>August</td>\n",
       "      <td>1</td>\n",
       "      <td>95</td>\n",
       "    </tr>\n",
       "  </tbody>\n",
       "</table>\n",
       "</div>"
      ],
      "text/plain": [
       "   Elevation  Humidity     Month  Tornado  Avg Temperature\n",
       "0        500        77      July        1               89\n",
       "1       4300        18      July        0               95\n",
       "2       7100        11      July        0               87\n",
       "3       4300        88      June        1               89\n",
       "4        500        34  December        0               50\n",
       "5        300        55  November        0               58\n",
       "6        300        77      June        1               91\n",
       "7        400        66    August        1               95"
      ]
     },
     "execution_count": 2,
     "metadata": {},
     "output_type": "execute_result"
    }
   ],
   "source": [
    "#Pandas is the standard dataframe/SQL library in Python\n",
    "import pandas as pd\n",
    "df=pd.read_csv('Tornado_Example_Data.csv')\n",
    "df"
   ]
  },
  {
   "cell_type": "markdown",
   "id": "bd6377a6-2262-4e75-b02f-01cc8506dbb8",
   "metadata": {},
   "source": [
    "# Tornado - what kind of target? Classification or regression?\n",
    "\n",
    "* Avg Temperature could be a target for regression (raw value).\n",
    "\n",
    "* Following convention, we will label our target as y and our dataset as X."
   ]
  },
  {
   "cell_type": "code",
   "execution_count": 3,
   "id": "bfd720c7-8b1c-46da-a7f0-fa7eab75058a",
   "metadata": {},
   "outputs": [
    {
     "data": {
      "text/html": [
       "<div>\n",
       "<style scoped>\n",
       "    .dataframe tbody tr th:only-of-type {\n",
       "        vertical-align: middle;\n",
       "    }\n",
       "\n",
       "    .dataframe tbody tr th {\n",
       "        vertical-align: top;\n",
       "    }\n",
       "\n",
       "    .dataframe thead th {\n",
       "        text-align: right;\n",
       "    }\n",
       "</style>\n",
       "<table border=\"1\" class=\"dataframe\">\n",
       "  <thead>\n",
       "    <tr style=\"text-align: right;\">\n",
       "      <th></th>\n",
       "      <th>Elevation</th>\n",
       "      <th>Humidity</th>\n",
       "      <th>Month</th>\n",
       "      <th>Avg Temperature</th>\n",
       "    </tr>\n",
       "  </thead>\n",
       "  <tbody>\n",
       "    <tr>\n",
       "      <th>0</th>\n",
       "      <td>500</td>\n",
       "      <td>77</td>\n",
       "      <td>July</td>\n",
       "      <td>89</td>\n",
       "    </tr>\n",
       "    <tr>\n",
       "      <th>1</th>\n",
       "      <td>4300</td>\n",
       "      <td>18</td>\n",
       "      <td>July</td>\n",
       "      <td>95</td>\n",
       "    </tr>\n",
       "    <tr>\n",
       "      <th>2</th>\n",
       "      <td>7100</td>\n",
       "      <td>11</td>\n",
       "      <td>July</td>\n",
       "      <td>87</td>\n",
       "    </tr>\n",
       "    <tr>\n",
       "      <th>3</th>\n",
       "      <td>4300</td>\n",
       "      <td>88</td>\n",
       "      <td>June</td>\n",
       "      <td>89</td>\n",
       "    </tr>\n",
       "    <tr>\n",
       "      <th>4</th>\n",
       "      <td>500</td>\n",
       "      <td>34</td>\n",
       "      <td>December</td>\n",
       "      <td>50</td>\n",
       "    </tr>\n",
       "    <tr>\n",
       "      <th>5</th>\n",
       "      <td>300</td>\n",
       "      <td>55</td>\n",
       "      <td>November</td>\n",
       "      <td>58</td>\n",
       "    </tr>\n",
       "    <tr>\n",
       "      <th>6</th>\n",
       "      <td>300</td>\n",
       "      <td>77</td>\n",
       "      <td>June</td>\n",
       "      <td>91</td>\n",
       "    </tr>\n",
       "    <tr>\n",
       "      <th>7</th>\n",
       "      <td>400</td>\n",
       "      <td>66</td>\n",
       "      <td>August</td>\n",
       "      <td>95</td>\n",
       "    </tr>\n",
       "  </tbody>\n",
       "</table>\n",
       "</div>"
      ],
      "text/plain": [
       "   Elevation  Humidity     Month  Avg Temperature\n",
       "0        500        77      July               89\n",
       "1       4300        18      July               95\n",
       "2       7100        11      July               87\n",
       "3       4300        88      June               89\n",
       "4        500        34  December               50\n",
       "5        300        55  November               58\n",
       "6        300        77      June               91\n",
       "7        400        66    August               95"
      ]
     },
     "execution_count": 3,
     "metadata": {},
     "output_type": "execute_result"
    }
   ],
   "source": [
    "y = df['Tornado']\n",
    "# VERY IMPORTANT HERE, we don't want the target in the dataset or we'll end up predicting ourself.\n",
    "# The goal is to predict unseen events.\n",
    "X = df.drop(['Tornado'], axis=1)\n",
    "X"
   ]
  },
  {
   "cell_type": "markdown",
   "id": "5e399423-f771-4f3c-8b7e-22e636420d6b",
   "metadata": {},
   "source": [
    "# Important things to mention\n",
    "\n",
    "* We need to do train-test split of our dataset. This is how we can judge how well it works on unseen data which is the entire point of machine learning.\n",
    "\n",
    "* For classification, we generally want to preserve the ratio of our target from the dataset.\n",
    "\n",
    "* If you did a strictly random assignment of rows of data into train or test partitions, you could end up with ratios not representative of your data\n",
    "* There may be times you would want to manipulate ratios but you need to be aware of this issue at a minimum."
   ]
  },
  {
   "cell_type": "code",
   "execution_count": 4,
   "id": "59fa70be-2cfe-4d23-8b2b-9cf05ea6778c",
   "metadata": {},
   "outputs": [],
   "source": [
    "# We have equal ratios here (4 tornados, 4 not-tornados) and we want to preserve that. So we use the train_test_split function with the\n",
    "# following parameters:\n",
    "\n",
    "from sklearn.model_selection import train_test_split\n",
    "X_train, X_test, y_train, y_test = train_test_split(X, y,\n",
    "                                                    stratify=y, \n",
    "                                                    test_size=0.25)\n",
    "\n",
    "# Stratify = y because we want same percentage of 1s and 0s in each partition. \n",
    "# Common train/test ratios are around 70-30, 80-20 or 75-25 as done above."
   ]
  },
  {
   "cell_type": "code",
   "execution_count": 5,
   "id": "a758f879-7717-45be-834f-bb55a53de118",
   "metadata": {},
   "outputs": [
    {
     "name": "stdout",
     "output_type": "stream",
     "text": [
      "   Elevation  Humidity     Month  Avg Temperature\n",
      "5        300        55  November               58\n",
      "1       4300        18      July               95\n",
      "6        300        77      June               91\n",
      "2       7100        11      July               87\n",
      "7        400        66    August               95\n",
      "0        500        77      July               89\n",
      "5    0\n",
      "1    0\n",
      "6    1\n",
      "2    0\n",
      "7    1\n",
      "0    1\n",
      "Name: Tornado, dtype: int64\n"
     ]
    }
   ],
   "source": [
    "# What do these look like?\n",
    "print(X_train)\n",
    "print(y_train)"
   ]
  },
  {
   "cell_type": "markdown",
   "id": "55276948-16f8-4bc5-86db-1f66fc17e8f8",
   "metadata": {},
   "source": [
    "# How does it learn?\n",
    "\n",
    "* \"Any sufficiently advanced technology is indistinguishable from magic\" – Arthur C. Clarke\n",
    "\n",
    "* Technology here = <s>magic</s> math\n",
    "\n",
    "* Training – create model, run data through it, check error, repeat\n",
    "\n",
    "* Activation function, Loss function, Optimizer, Metrics"
   ]
  },
  {
   "cell_type": "markdown",
   "id": "61ea1bb3-7699-4272-86be-a00083713f03",
   "metadata": {},
   "source": [
    "# Anatomy of a machine learning model\n",
    "\n",
    "<img src=\"../images/Backprop.jpg\" width=\"600\" height=\"600\" align=center/>"
   ]
  },
  {
   "cell_type": "markdown",
   "id": "ebfbd3ea-14b6-45b4-9921-2ae7f1ddfe3c",
   "metadata": {},
   "source": [
    "# Activation function\n",
    "<img src=\"../images/sigmoid.png\" width=\"200\" height=\"100\" align=right />\n",
    "<img src=\"../images/relu.png\" width=\"200\" height=\"100\" align=right />\n",
    "\n",
    "* They introduce nonlinearity which is vital for more complicated problems\n",
    "  \n",
    "* Function must be differentiable to measure rate of change\n",
    "\n",
    "* Relu has been default in the field for several years now\n",
    "\n",
    "* Relu is quick to compute and works for most tasks"
   ]
  },
  {
   "cell_type": "markdown",
   "id": "af2fad95-a474-4b71-b282-cb3f774ec668",
   "metadata": {},
   "source": [
    "# Loss function\n",
    "\n",
    "* Measures difference between our predictions and truth\n",
    "\n",
    "* Classification and regression use different functions - THIS IS IMPORTANT and we will show what happens if it's wrong\n",
    "\n",
    "* Cross entropy functions for classification \n",
    "\n",
    "* MSE or MAE for regression"
   ]
  },
  {
   "cell_type": "markdown",
   "id": "4b58783e-b186-409e-b89f-03a9683ac8f0",
   "metadata": {},
   "source": [
    "# Loss function - sidebar\n",
    "\n",
    "* We said before that we want to keep the ratio of targets the same in train and test data\n",
    "\n",
    "* Some data is not balanced - earthquakes, anomaly detection might be 99% all \"0\"\n",
    "\n",
    "* If you don't do anything about this, you could end up with a model that will always predict 0 and get 99% accuracy\n",
    "\n",
    "* Writing a custom loss function is one way to deal with this - penalize loss more if it misses a 1 than if it misses a 0"
   ]
  },
  {
   "cell_type": "markdown",
   "id": "3408d328-6e89-4ea5-92dd-c5795965f273",
   "metadata": {},
   "source": [
    "# Optimizer\n",
    "\n",
    "* Update model parameters to minimize loss\n",
    "\n",
    "* Adam has been standard for some time (both C&R)\n",
    "\n",
    "* SGD (Stochastic Gradient Descent) was original\n",
    "\n",
    "* AdamW is modified Adam, which was modified SGD\n",
    "\n",
    "* All use a learning rate parameter - (around .0001 - .01) higher means quicker training but you might miss your solution"
   ]
  },
  {
   "cell_type": "markdown",
   "id": "5c55db60-ec94-45c4-b416-aca2d3b2dea5",
   "metadata": {},
   "source": [
    "# Metrics - How well did we do?\n",
    "\n",
    "* Classification / regression will influence this choice\n",
    "\n",
    "* There may be other considerations (TP, FP)\n",
    "\n",
    "* Different accuracy metrics like loss functions\n",
    "\n",
    "* Today we will use sparse_categorical_accuracy\n",
    "\n",
    "* Regression would continue to use MSE or MAE"
   ]
  },
  {
   "cell_type": "markdown",
   "id": "f25fde2c-03f8-4016-9cdc-9bc643262bc0",
   "metadata": {},
   "source": [
    "# Units and Layers\n",
    "\n",
    "* Brings everything together\n",
    "\n",
    "* A machine learning model is made up of layers\n",
    "\n",
    "* Which are made up of units\n",
    "\n",
    "* LLMs have 1000s, our model today will have 3 - 4"
   ]
  },
  {
   "cell_type": "markdown",
   "id": "2de6ff89-a063-49aa-b83b-4bd03b9f3dab",
   "metadata": {},
   "source": [
    "# Anatomy of a machine learning model\n",
    "\n",
    "<img src=\"../images/Backprop.jpg\" width=\"600\" height=\"600\" align=center/>"
   ]
  },
  {
   "cell_type": "markdown",
   "id": "6f06ca24-da39-4a46-b86d-256e016dcd41",
   "metadata": {},
   "source": [
    "# END OF THIS NOTEBOOK - CODE TO FOLLOW"
   ]
  },
  {
   "cell_type": "code",
   "execution_count": null,
   "id": "662b0044-3b29-4d93-b1e4-c3ee21f4aced",
   "metadata": {},
   "outputs": [],
   "source": []
  }
 ],
 "metadata": {
  "kernelspec": {
   "display_name": "Python 3 (ipykernel)",
   "language": "python",
   "name": "python3"
  },
  "language_info": {
   "codemirror_mode": {
    "name": "ipython",
    "version": 3
   },
   "file_extension": ".py",
   "mimetype": "text/x-python",
   "name": "python",
   "nbconvert_exporter": "python",
   "pygments_lexer": "ipython3",
   "version": "3.10.12"
  }
 },
 "nbformat": 4,
 "nbformat_minor": 5
}
